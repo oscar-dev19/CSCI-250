{
 "cells": [
  {
   "cell_type": "markdown",
   "metadata": {},
   "source": [
    "# Three Examples of ML/DL in the Healthcare Industry\n",
    "\n",
    "---\n",
    "\n",
    "## 1: Adaptive Prosthetics\n",
    "\n",
    "---\n",
    "1: Machine Learning can help users of prosthetics adapt much quicker to using the device prosthetic. By studying visual or numerical data of natural body gestures / movements the device can move much more fluid and natural.\n",
    "\n",
    "2: This is a regression problem since it is trying to mimic something as close to some value as it can.\n",
    "\n",
    "3: Using smaller AI Frameworks such as tensorflow lite, we can import a trained model to some embedded device in the prosthetic. In addition metadata can be sent to some server for additional training data and maybe during some standby it can patch the model to a better model based on the data from how the patient is using it.\n",
    "\n",
    "---\n",
    "\n",
    "## 2: Spinal Cord Mimicing \n",
    "\n",
    "---\n",
    "1: Deep Learning can help repair spinal cord related injuries by finding patterns in the nerves between two parts of the spinal column. This way it can learn how nerves between two parts are communicating. \n",
    "\n",
    "2: This can be both a regression and classification model: regression since it is trying to get close to some signal as the trained data set and classification since it is trying to understand wether it has made the right signal.\n",
    "\n",
    "3: A device can serve as a bridge between two working discs and a damaged disc. Using a pretrained model on a functional set of discs or a spine it can mimic the nerve communication over the other disc adjacent to the damaged disc. Can be problematic since some external device may be needed to do some data processing and having remote protocols for device communication can pose some health and security risk for the patient.\n",
    "\n",
    "---\n",
    "\n",
    "## 3: Prescription Processing\n",
    "\n",
    "---\n",
    "\n",
    "1: More often than not there are problems on what medication is given to patients and how much of it is prescribed. Using ML we can predict based on medical records what to prescribe, state possible side effects, and how much to prescribe to each patient.\n",
    "\n",
    "2: This is a classification model since it is trying to determine what medicine to give to each patient.\n",
    "\n",
    "3: This application can be deployed through webservices where it can be used by other hospital networks or health insurances or pharmaceutical distributors.\n"
   ]
  }
 ],
 "metadata": {
  "kernelspec": {
   "display_name": "Python 3",
   "language": "python",
   "name": "python3"
  },
  "language_info": {
   "codemirror_mode": {
    "name": "ipython",
    "version": 3
   },
   "file_extension": ".py",
   "mimetype": "text/x-python",
   "name": "python",
   "nbconvert_exporter": "python",
   "pygments_lexer": "ipython3",
   "version": "3.7.3"
  }
 },
 "nbformat": 4,
 "nbformat_minor": 2
}
