{
 "cells": [
  {
   "cell_type": "code",
   "execution_count": 4,
   "metadata": {},
   "outputs": [
    {
     "name": "stdout",
     "output_type": "stream",
     "text": [
      "[0]\n",
      "[0]\n"
     ]
    }
   ],
   "source": [
    "# Decision Tree Classification Example\n",
    "\n",
    "from sklearn import tree\n",
    "\n",
    "# Gathering Training data.\n",
    "# features [weight, rough=0/smooth=1]\n",
    "# Input to classifier.\n",
    "features = [[155, 0], [180, 0], [135, 1], [110, 1]] #scikit requires real numbers.\n",
    "# labels = [orange=1/apple=0]\n",
    "labels = [1, 1, 0, 0]\n",
    "\n",
    "# Training Classifier\n",
    "classifier = tree.DecisionTreeClassifier()\n",
    "classifier = classifier.fit(features, labels)\n",
    "\n",
    "# Making Predictions\n",
    "print(classifier.predict([[120, 1]]))\n",
    "print(classifier.predict([[170, 1]]))"
   ]
  }
 ],
 "metadata": {
  "kernelspec": {
   "display_name": "Python 3",
   "language": "python",
   "name": "python3"
  },
  "language_info": {
   "codemirror_mode": {
    "name": "ipython",
    "version": 3
   },
   "file_extension": ".py",
   "mimetype": "text/x-python",
   "name": "python",
   "nbconvert_exporter": "python",
   "pygments_lexer": "ipython3",
   "version": "3.7.3"
  }
 },
 "nbformat": 4,
 "nbformat_minor": 2
}
