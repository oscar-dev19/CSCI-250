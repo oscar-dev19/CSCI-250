{
 "cells": [
  {
   "cell_type": "code",
   "execution_count": 2,
   "metadata": {},
   "outputs": [
    {
     "name": "stdout",
     "output_type": "stream",
     "text": [
      "[0]\n",
      "[1]\n"
     ]
    }
   ],
   "source": [
    "# Decision Tree Classification Example\n",
    "# Supervised Learning\n",
    "import pickle\n",
    "from sklearn import tree\n",
    "\n",
    "# Gathering Training data.\n",
    "# features [weight, rough=0/smooth=1]\n",
    "# Input to classifier.\n",
    "features = [[155, 0], [180, 0], [135, 1], [110, 1]] #scikit requires real numbers.\n",
    "# labels = [orange=1/apple=0]\n",
    "labels = [1, 1, 0, 0]\n",
    "\n",
    "# Training Classifier\n",
    "classifier = tree.DecisionTreeClassifier()\n",
    "classifier = classifier.fit(features, labels)\n",
    "#save trained classifier\n",
    "pickle.dump(classifier, open('apple_orangeclassifier.mdl','wb'))\n",
    "\n",
    "# Making Predictions\n",
    "print(classifier.predict([[120, 1]]))\n",
    "print(classifier.predict([[170, 1]]))"
   ]
  },
  {
   "cell_type": "code",
   "execution_count": 4,
   "metadata": {},
   "outputs": [
    {
     "name": "stdout",
     "output_type": "stream",
     "text": [
      "[1]\n",
      "[0]\n"
     ]
    },
    {
     "data": {
      "text/plain": [
       "'fit'"
      ]
     },
     "execution_count": 4,
     "metadata": {},
     "output_type": "execute_result"
    }
   ],
   "source": [
    "bmi_data = [[200,7], [210,8], [183,6], [120, 5], [110, 5], [130, 6], [138, 6], [145, 6], [150, 6], [168, 5], [199, 6], [220, 6]]\n",
    "\n",
    "labels = [1, 0, 1, 1, 1, 1, 0, 1, 1, 1, 0, 0]\n",
    "\n",
    "classifier = tree.DecisionTreeClassifier()\n",
    "classifier = classifier.fit(bmi_data, labels)\n",
    "#saving classifier\n",
    "pickle.dump(classifier,open('bmi_fitness.mdl', 'wb'))\n",
    "\n",
    "print(classifier.predict([[183, 5]]))\n",
    "print(classifier.predict([[230, 6]]))\n",
    "\n",
    "def fitunfit(number):\n",
    "    return \"fit\" if number == 1 else \"unfit\"\n",
    "    \n",
    "fitunfit(1)"
   ]
  },
  {
   "cell_type": "code",
   "execution_count": null,
   "metadata": {},
   "outputs": [],
   "source": []
  }
 ],
 "metadata": {
  "kernelspec": {
   "display_name": "Python 3",
   "language": "python",
   "name": "python3"
  },
  "language_info": {
   "codemirror_mode": {
    "name": "ipython",
    "version": 3
   },
   "file_extension": ".py",
   "mimetype": "text/x-python",
   "name": "python",
   "nbconvert_exporter": "python",
   "pygments_lexer": "ipython3",
   "version": "3.8.5"
  }
 },
 "nbformat": 4,
 "nbformat_minor": 2
}
