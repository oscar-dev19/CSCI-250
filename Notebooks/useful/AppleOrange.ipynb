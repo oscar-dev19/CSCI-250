{
 "cells": [
  {
   "cell_type": "code",
   "execution_count": 4,
   "metadata": {
    "colab": {
     "base_uri": "https://localhost:8080/",
     "height": 52
    },
    "colab_type": "code",
    "executionInfo": {
     "elapsed": 874,
     "status": "ok",
     "timestamp": 1570237696738,
     "user": {
      "displayName": "Gheni Abla",
      "photoUrl": "",
      "userId": "06404265611971372954"
     },
     "user_tz": 420
    },
    "id": "JTDhSm26acaq",
    "outputId": "2141097f-bd3e-4b38-9dc5-d8d102c7e60f"
   },
   "outputs": [
    {
     "name": "stdout",
     "output_type": "stream",
     "text": [
      "[0]\n",
      "[1]\n"
     ]
    }
   ],
   "source": [
    "from sklearn import tree\n",
    "\n",
    "# Gathering training data\n",
    "# features = [[155, “rough”], [180, “rough”], [135, “smooth”], [110, “smooth”]] \n",
    "\n",
    "# Input to classifier\n",
    "features = [[155, 0], [180, 0], [135, 1], [110, 1]] # scikit-learn requires real-valued features\n",
    "\n",
    "# labels = [“orange”, “orange”, “apple”, “apple”] # output values\n",
    "labels = [1, 1, 0, 0]\n",
    "\n",
    "# Training classifier\n",
    "classifier = tree.DecisionTreeClassifier() # using decision tree classifier\n",
    "classifier = classifier.fit(features, labels) # Find patterns in data\n",
    "\n",
    "# Making predictions:Output is 0 for apple and 1 for orange\n",
    "def predict_fruit(data):\n",
    "    return classifier.predict(data)\n",
    "\n",
    "def AppleorOrange(prediction)\n",
    "    fruit=''\n",
    "    if prediction == 0:\n",
    "        fruit = 'Apple'\n",
    "    else:\n",
    "        fruit = 'Orange'\n",
    "    return fruit"
   ]
  }
 ],
 "metadata": {
  "colab": {
   "collapsed_sections": [],
   "name": "AppleOrange.ipynb",
   "provenance": []
  },
  "kernelspec": {
   "display_name": "Python 3",
   "language": "python",
   "name": "python3"
  },
  "language_info": {
   "codemirror_mode": {
    "name": "ipython",
    "version": 3
   },
   "file_extension": ".py",
   "mimetype": "text/x-python",
   "name": "python",
   "nbconvert_exporter": "python",
   "pygments_lexer": "ipython3",
   "version": "3.8.5"
  }
 },
 "nbformat": 4,
 "nbformat_minor": 1
}
